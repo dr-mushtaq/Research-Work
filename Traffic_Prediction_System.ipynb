{
  "nbformat": 4,
  "nbformat_minor": 0,
  "metadata": {
    "colab": {
      "provenance": [],
      "authorship_tag": "ABX9TyO0GrKlnLe752s60Xh4hVzf",
      "include_colab_link": true
    },
    "kernelspec": {
      "name": "python3",
      "display_name": "Python 3"
    },
    "language_info": {
      "name": "python"
    }
  },
  "cells": [
    {
      "cell_type": "markdown",
      "metadata": {
        "id": "view-in-github",
        "colab_type": "text"
      },
      "source": [
        "<a href=\"https://colab.research.google.com/github/haris-lutafullah/Research-Work/blob/main/Traffic_Prediction_System.ipynb\" target=\"_parent\"><img src=\"https://colab.research.google.com/assets/colab-badge.svg\" alt=\"Open In Colab\"/></a>"
      ]
    },
    {
      "cell_type": "markdown",
      "source": [
        "#<p style=\"font-family:JetBrains Mono; font-weight:normal; letter-spacing: 1px; color:#207d06; font-size:100%; text-align:left;padding: 0px; border-bottom: 3px solid #207d06;\">**Importing Library Files**</p>"
      ],
      "metadata": {
        "id": "gk1hSOkBdO11"
      }
    },
    {
      "cell_type": "code",
      "source": [
        "import numpy as np\n",
        "import pandas as pd\n",
        "from sklearn.preprocessing import LabelEncoder, MinMaxScaler\n",
        "from tensorflow.keras.models import Sequential\n",
        "from tensorflow.keras.layers import LSTM, Dense, Dropout\n",
        "from tensorflow.keras.callbacks import EarlyStopping\n",
        "from tensorflow.keras.layers import Input, LSTM, Dropout, Dense\n",
        "from tensorflow.keras.models import Sequential\n",
        "from tensorflow.keras.callbacks import EarlyStopping\n",
        "from sklearn.metrics import r2_score, mean_squared_error, mean_absolute_error"
      ],
      "metadata": {
        "id": "0xdG6nIAa9X0"
      },
      "execution_count": 1,
      "outputs": []
    },
    {
      "cell_type": "markdown",
      "source": [
        "#<p style=\"font-family:JetBrains Mono; font-weight:normal; letter-spacing: 1px; color:#207d06; font-size:100%; text-align:left;padding: 0px; border-bottom: 3px solid #207d06;\">**File Loading**</p>"
      ],
      "metadata": {
        "id": "2P7kA2MKbbpv"
      }
    },
    {
      "cell_type": "code",
      "source": [
        "# Load the dataset\n",
        "file_path = '/content/Metro_Interstate_Traffic_Volume.csv'\n",
        "data = pd.read_csv(file_path)"
      ],
      "metadata": {
        "id": "oMXZgtCabmer"
      },
      "execution_count": 2,
      "outputs": []
    },
    {
      "cell_type": "markdown",
      "source": [
        "#<p style=\"font-family:JetBrains Mono; font-weight:normal; letter-spacing: 1px; color:#207d06; font-size:100%; text-align:left;padding: 0px; border-bottom: 3px solid #207d06;\">**Data Pre-Processing**</p>"
      ],
      "metadata": {
        "id": "9kUjX__sbqBR"
      }
    },
    {
      "cell_type": "markdown",
      "source": [
        "**Label Encoding**"
      ],
      "metadata": {
        "id": "JFCxbKDQb3Sb"
      }
    },
    {
      "cell_type": "code",
      "source": [
        "# Step 1: Label Encoding for categorical columns\n",
        "label_encoder = LabelEncoder()\n",
        "for column in ['holiday', 'weather_main', 'weather_description']:\n",
        "    data[column] = label_encoder.fit_transform(data[column])"
      ],
      "metadata": {
        "id": "ZYVogTc6cJru"
      },
      "execution_count": 3,
      "outputs": []
    },
    {
      "cell_type": "markdown",
      "source": [
        "**Date-Time Conversions**"
      ],
      "metadata": {
        "id": "-kCreZ6kcVE5"
      }
    },
    {
      "cell_type": "code",
      "source": [
        "# Step 2: Convert 'date_time' column to datetime format\n",
        "data['date_time'] = pd.to_datetime(data['date_time'])\n",
        "data.set_index('date_time', inplace=True)"
      ],
      "metadata": {
        "id": "nhXnjxG0cLz7"
      },
      "execution_count": 4,
      "outputs": []
    },
    {
      "cell_type": "markdown",
      "source": [
        "**Normalize Dataset**"
      ],
      "metadata": {
        "id": "hZBi7ERkee_A"
      }
    },
    {
      "cell_type": "code",
      "source": [
        "# Step 3: Normalize the dataset (excluding 'date_time')\n",
        "scaler = MinMaxScaler()\n",
        "numeric_columns = ['temp', 'rain_1h', 'snow_1h', 'clouds_all', 'traffic_volume']\n",
        "data[numeric_columns] = scaler.fit_transform(data[numeric_columns])\n"
      ],
      "metadata": {
        "id": "tqzEsYV4cQ4b"
      },
      "execution_count": 5,
      "outputs": []
    },
    {
      "cell_type": "markdown",
      "source": [
        "**Creating Lag Features**"
      ],
      "metadata": {
        "id": "fcGk5cZZccei"
      }
    },
    {
      "cell_type": "code",
      "source": [
        "# Step 4: Create Lag Features (example: 1-hour lag for each numeric column)\n",
        "for column in numeric_columns:\n",
        "    data[f'{column}_lag1'] = data[column].shift(1)\n",
        "\n",
        "# Drop any rows with NaN values resulting from the shift\n",
        "data.dropna(inplace=True)"
      ],
      "metadata": {
        "id": "-1IAqAmfcTgS"
      },
      "execution_count": 6,
      "outputs": []
    }
  ]
}